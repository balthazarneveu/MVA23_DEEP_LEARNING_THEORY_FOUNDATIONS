{
 "cells": [
  {
   "cell_type": "markdown",
   "metadata": {},
   "source": [
    "# TP 1: Bayesian Linear Regression\n",
    "\n",
    "During this session, we will work with Bayesian Linear Regression models with varying basis functions (linear, polynomial and Gaussian). Datasets used are 1D toy regression samples ranging from linear datasets to more complex non-linear datasets such as increasing sinusoidal curves.\n",
    "\n",
    "**Goal**: Take hand on simple Bayesian models, understand how it works, gain finer insights on predictive distribution.\n",
    "\n"
   ]
  },
  {
   "cell_type": "code",
   "execution_count": null,
   "metadata": {},
   "outputs": [],
   "source": [
    "import numpy as np\n",
    "import matplotlib.pyplot as plt\n",
    "from typing import Callable, Tuple, Union, Optional\n",
    "%matplotlib inline"
   ]
  },
  {
   "cell_type": "code",
   "execution_count": null,
   "metadata": {},
   "outputs": [],
   "source": [
    "from utils import plot_results"
   ]
  },
  {
   "cell_type": "markdown",
   "metadata": {},
   "source": [
    "## Part I: Linear Basis function model\n",
    "\n",
    "We start with a linear dataset where we will analyze the behavior of linear basis functions in the framework of Bayesian Linear Regression."
   ]
  },
  {
   "cell_type": "code",
   "execution_count": null,
   "metadata": {},
   "outputs": [],
   "source": [
    "OFFSET = \"offset\"\n",
    "SLOPE= \"slope\"\n",
    "SIGMA = \"sigma\"\n",
    "N = \"nbpts\""
   ]
  },
  {
   "cell_type": "code",
   "execution_count": null,
   "metadata": {},
   "outputs": [],
   "source": [
    "GROUNDTRUTH = {\n",
    "    OFFSET: -0.3,\n",
    "    SLOPE: 0.5,\n",
    "    SIGMA:0.2, #we assume that we know how to model the noise\n",
    "    N: 25\n",
    "}"
   ]
  },
  {
   "cell_type": "code",
   "execution_count": null,
   "metadata": {},
   "outputs": [],
   "source": [
    "# GROUNDTRUTH = {\n",
    "#     OFFSET: -0.8,\n",
    "#     SLOPE: 0.5,\n",
    "#     SIGMA:0.1, #we assume that we know how to model the noise\n",
    "#     N: 30\n",
    "# }"
   ]
  },
  {
   "cell_type": "code",
   "execution_count": null,
   "metadata": {},
   "outputs": [],
   "source": [
    "\n",
    "# Generate linear toy dataset\n",
    "def f_linear(x, noise_amount, sigma):\n",
    "    y = GROUNDTRUTH[\"offset\"] + GROUNDTRUTH[\"slope\"]*x\n",
    "    noise = np.random.normal(0, sigma, len(x))\n",
    "    return y + noise_amount*noise\n",
    "\n",
    "# Create training and test points\n",
    "nbpts=25\n",
    "dataset_linear = {}\n",
    "dataset_linear['X_train'] = np.random.uniform(0, 2, GROUNDTRUTH[N])\n",
    "dataset_linear['y_train'] = f_linear(dataset_linear['X_train'], noise_amount=1, sigma=GROUNDTRUTH[SIGMA])\n",
    "dataset_linear['X_test'] = np.linspace(-10,10, 10*GROUNDTRUTH[N])\n",
    "dataset_linear['y_test'] = f_linear(dataset_linear['X_test'], noise_amount=0, sigma=GROUNDTRUTH[SIGMA])"
   ]
  },
  {
   "cell_type": "code",
   "execution_count": null,
   "metadata": {},
   "outputs": [],
   "source": [
    "# Plot dataset\n",
    "plt.figure(figsize=(7,5))\n",
    "plt.xlim(xmax = 3, xmin =-1)\n",
    "plt.ylim(ymax = 1.5, ymin = -1)\n",
    "plt.plot(dataset_linear['X_test'], dataset_linear['y_test'], color='green', linewidth=2, label=\"Ground Truth\")\n",
    "plt.plot(dataset_linear['X_train'], dataset_linear['y_train'], 'o', color='blue', label='Training points')\n",
    "plt.legend()\n",
    "plt.show()"
   ]
  },
  {
   "cell_type": "code",
   "execution_count": null,
   "metadata": {},
   "outputs": [],
   "source": [
    "# Hyperparameters\n",
    "dataset_linear['ALPHA'] = 2.0\n",
    "dataset_linear['BETA'] = 1/(2.0*GROUNDTRUTH[SIGMA]**2)"
   ]
  },
  {
   "cell_type": "markdown",
   "metadata": {},
   "source": [
    "We will use the linear basis function:\n",
    "    $\\phi:x \\rightarrow (1,x)$\n",
    "\n",
    "Design matrix $\\Phi$ defined on training set is:\n",
    "$$ \\Phi=\n",
    "  \\begin{bmatrix}\n",
    "    1 & x_1 \\\\\n",
    "    ... & ...\\\\\n",
    "    1 & x_n\n",
    "  \\end{bmatrix}\n",
    "$$\n",
    "\n",
    "**Question 1.1: Code linear basis function**"
   ]
  },
  {
   "cell_type": "code",
   "execution_count": null,
   "metadata": {},
   "outputs": [],
   "source": [
    "# Define basis function  - keep the features linear (not polynomial, sinus etc...)\n",
    "# Add a one coordinate to make the transform affine.\n",
    "\n",
    "def phi_linear(x: float) -> np.ndarray:\n",
    "    \"\"\" Linear Basis Functions \n",
    "    \n",
    "    Args:\n",
    "      x: (float) 1D input\n",
    "      \n",
    "    Returns:\n",
    "      (array) linear features of x\n",
    "    \"\"\"\n",
    "    return np.stack([np.ones_like(x), x], axis=1)"
   ]
  },
  {
   "cell_type": "markdown",
   "metadata": {},
   "source": [
    "**Question 1.2: Recall closed form of the posterior distribution in linear case. Then, code and visualize posterior sampling. What can you observe?**\n",
    "\n",
    "Thanks to the prior and the likelihood both having a normal distribution, the posterior ends up following a Normal distribution.\n",
    "$$p(w|X, Y) = \\mathcal{N}(w|\\mu, \\Sigma)$$\n",
    "where\n",
    "- $\\Sigma = \\big[\\alpha I + \\beta \\Phi^T \\Phi\\big]^{-1}$\n",
    "- $\\mu = \\beta . \\Sigma . \\Phi^T. Y$\n",
    "\n",
    "- If we add more points, the posterior distribution gets narrower (sharper). We get more confidence in this estimator.\n",
    "- If we set $N=0$ (getting no samples), posterior=prior. \n",
    "    - The posterior plot simply looks like a isotropic gaussian, $p(w|\\alpha) = \\mathcal{N}(w, 0, \\frac{1}{\\alpha})$ . \n",
    "    - When we set a very large $\\alpha$ we have a lot of confidence in the prior so we get a narrow spot at (0,0).\n",
    "    - If $\\alpha$ is low, we get low confidence in the priori, the gaussian is widespread.\n",
    "Note: when $\\alpha=0$, $\\Sigma$ is the inverse of the covariance matrix of the sample feature vectors."
   ]
  },
  {
   "cell_type": "code",
   "execution_count": null,
   "metadata": {},
   "outputs": [],
   "source": [
    "# visualize posterior sampling\n",
    "\n",
    "# @TODO: several plots depending on alpha\n",
    "plt.figure(figsize=(15,10))\n",
    "for count,n in enumerate([0, 1, 2, 10, len(dataset_linear['X_train'])]):\n",
    "    cur_data = dataset_linear['X_train'][:n]\n",
    "    cur_lbl = dataset_linear['y_train'][:n]\n",
    "    phi = phi_linear(cur_data)\n",
    "    phi_T_dot_phi = np.dot(phi.T, phi)\n",
    "    sigma_inv = dataset_linear['ALPHA']*np.eye(2) + dataset_linear['BETA']*phi_T_dot_phi\n",
    "    sigma_N = np.linalg.inv(sigma_inv)\n",
    "    mu_N = dataset_linear['BETA'] *(np.dot(sigma_N ,  np.dot(phi.T, cur_lbl)))\n",
    "    # Compute values on meshgrid\n",
    "    sigma_N_inv = np.linalg.inv(sigma_N) # should be ~ sigma_inv\n",
    "\n",
    "    meshgrid = np.arange(-1, 1.01, 0.01)\n",
    "    posterior = np.zeros((meshgrid.shape[0],meshgrid.shape[0]))\n",
    "    for i in range(meshgrid.shape[0]):\n",
    "        for j in range(meshgrid.shape[0]):\n",
    "            w = np.zeros((2,1))\n",
    "            w[0,0] = meshgrid[i] #offset - rows - y - vertical\n",
    "            w[1,0] = meshgrid[j] #slope - columns - x - horizontal\n",
    "            posterior[i,j] = np.exp(-0.5* np.dot(np.dot((w-mu_N.reshape(2,1)).T, sigma_N_inv), (w-mu_N.reshape(2,1))))\n",
    "    Z = 1.0 / ( np.sqrt(2*np.pi* np.linalg.det(sigma_N) ))\n",
    "    posterior[:,:] /= Z\n",
    "    \n",
    "    # Plot posterior with n points\n",
    "    plt.subplot(231+count)\n",
    "    plt.imshow(posterior, extent=[-1,1,1,-1])  # left, right , bottom, top\n",
    "    # Do not inverse axes at this point, simply rescale!    \n",
    "    plt.plot(GROUNDTRUTH[SLOPE], GROUNDTRUTH[OFFSET], '+', markeredgecolor='white', markeredgewidth=1, markersize=12, alpha=0.5)\n",
    "    plt.gca().invert_yaxis() # Now you can invert the axes\n",
    "    plt.ylabel(\"Offset\") # y\n",
    "    plt.xlabel(\"Slope\") # x\n",
    "    plt.title(f'Posterior with N={n} points\\n'+\n",
    "              f'Offset ~ {mu_N[0]:.2f} | {GROUNDTRUTH[OFFSET]:.2f}\\n'+\n",
    "              f'Slope ~ {mu_N[1]:.2f} | {GROUNDTRUTH[SLOPE]:.2f}')\n",
    "plt.tight_layout()\n",
    "plt.show()"
   ]
  },
  {
   "cell_type": "markdown",
   "metadata": {},
   "source": [
    "**Question 1.3: Recall and code closed form of the predictive distribution in linear case.**"
   ]
  },
  {
   "cell_type": "code",
   "execution_count": null,
   "metadata": {},
   "outputs": [],
   "source": [
    "#TO DO: Code closed form solution according to the following requirements defined below\n",
    "\n",
    "# Define analytical solution to Bayesian Linear Regression, with respect to the basis function chosen,\n",
    "# the training set (X_train, y_train) and the noise precision parameter beta \n",
    "# and prior precision parameter alpha chosen.\n",
    "# It should return a function outputing both mean and std of the predictive distribution at a point x*.\n",
    "\n",
    "def closed_form(func: Callable, X_train: np.ndarray, y_train: np.ndarray, alpha:float, beta: float) -> Callable:\n",
    "  \"\"\"Closed form solution\n",
    "\n",
    "  Args:\n",
    "  func: (function) basis function used\n",
    "  '''\n",
    "    def phi_linear(x: float) -> np.ndarray:\n",
    "    return np.stack([np.ones_like(x), x], axis=1)\n",
    "  '''\n",
    "\n",
    "  X_train: (array) train inputs, sized [N,].\n",
    "  y_train: (array) train labels, sized [N, ].\n",
    "  alpha: (float) prior precision parameter.\n",
    "  beta: (float) noise precision parameter.\n",
    "  \n",
    "  Returns:\n",
    "    (function) prediction function, returning itself both mean and std\n",
    "  \"\"\"\n",
    "  cur_data = dataset_linear['X_train'][:n]\n",
    "  cur_lbl = dataset_linear['y_train'][:n]\n",
    "  phi_data = phi_linear(cur_data)\n",
    "  phi_T_dot_phi = np.dot(phi_data.T, phi_data)\n",
    "  sigma_inv = dataset_linear['ALPHA']*np.eye(2) + dataset_linear['BETA']*phi_T_dot_phi\n",
    "  sigma_N = np.linalg.inv(sigma_inv)\n",
    "  mu_N = dataset_linear['BETA'] *(np.dot(sigma_N ,  np.dot(phi_data.T, cur_lbl)))\n",
    "  def predictive_distribution_gaussian_model(x: np.ndarray) -> Tuple[np.ndarray, np.ndarray]:\n",
    "    \"\"\"Predictive Gaussian distribution evaluated at \"x*\" determined by its average and standard deviation\n",
    "\n",
    "    Args:\n",
    "        x (np.ndarray): _description_\n",
    "\n",
    "    Returns:\n",
    "        Tuple[np.ndarray, np.ndarray]: mean, standard deviation evaluated at x star\n",
    "    \"\"\"\n",
    "    phi = phi_linear(x)\n",
    "    mean_value = np.dot(phi, mu_N)\n",
    "    dist_squared  = np.einsum('ij,jk,ik->i', phi, sigma_N, phi)\n",
    "    # Einsum use to save some computation here\n",
    "    # dist_squared_big  = np.dot(np.dot(phi, sigma_N), phi.T).diagonal()\n",
    "    # assert np.allclose(dist_squared_big, dist_squared)\n",
    "    variance = 1./beta + dist_squared\n",
    "    std_dev = np.sqrt(variance)\n",
    "    return mean_value, std_dev\n",
    "\n",
    "  return predictive_distribution_gaussian_model\n",
    "\n",
    "\n",
    "avg, std = closed_form(phi_linear, dataset_linear['X_train'], dataset_linear['y_train'], \n",
    "                     dataset_linear['ALPHA'], dataset_linear['BETA'])(dataset_linear['X_test'])"
   ]
  },
  {
   "cell_type": "code",
   "execution_count": null,
   "metadata": {},
   "outputs": [],
   "source": [
    "f_pred = closed_form(phi_linear, dataset_linear['X_train'], dataset_linear['y_train'], \n",
    "                     dataset_linear['ALPHA'], dataset_linear['BETA'])"
   ]
  },
  {
   "cell_type": "markdown",
   "metadata": {},
   "source": [
    "**Question 1.4: Based on previously defined ``f_pred()``, predict on the test dataset. Then visualize results using ``plot_results()`` defined at the beginning of the notebook.**"
   ]
  },
  {
   "cell_type": "code",
   "execution_count": null,
   "metadata": {},
   "outputs": [],
   "source": []
  },
  {
   "cell_type": "code",
   "execution_count": null,
   "metadata": {},
   "outputs": [],
   "source": [
    "# Predict on test dataset and visualize results\n",
    "\n",
    "# You should use the following parameters for plot_results\n",
    "# xmin=-10, xmax=10, ymin=-6, ymax=6, stdmin=0.05, stdmax=1\n",
    "y_pred, y_pred_std = f_pred(dataset_linear['X_test'])\n",
    "\n",
    "plot_results( dataset_linear['X_train'], dataset_linear['y_train'], dataset_linear['X_test'],dataset_linear['y_test'], y_pred, y_pred_std, xmin=-10, xmax=10, ymin=-6, ymax=6, stdmin=0.05, stdmax=1)"
   ]
  },
  {
   "cell_type": "markdown",
   "metadata": {},
   "source": [
    "**Question 1.5: Analyse these results. Why predictive variance increases far from training distribution? Prove it analytically in the case where $\\alpha=0$ and $\\beta=1$.**"
   ]
  },
  {
   "cell_type": "markdown",
   "metadata": {},
   "source": [
    "**Bonus Question: What happens when applying Bayesian Linear Regression on the following dataset?**"
   ]
  },
  {
   "cell_type": "code",
   "execution_count": null,
   "metadata": {},
   "outputs": [],
   "source": [
    "# Create training and test points\n",
    "sigma = 0.2\n",
    "dataset_hole = {}\n",
    "dataset_hole['X_train'] = np.concatenate(([np.random.uniform(-3, -1, 10), np.random.uniform(1, 3, 10)]), axis=0)\n",
    "dataset_hole['y_train'] = f_linear(dataset_hole['X_train'], noise_amount=1,sigma=sigma)\n",
    "dataset_hole['X_test'] = np.linspace(-12,12, 100)\n",
    "dataset_hole['y_test'] = f_linear(dataset_hole['X_test'], noise_amount=0,sigma=sigma)\n",
    "dataset_hole['ALPHA'] = 2.0\n",
    "dataset_hole['BETA'] = 1/(2.0*sigma**2)\n",
    "\n",
    "# Plot dataset\n",
    "plt.figure(figsize=(7,5))\n",
    "plt.xlim(xmin =-12, xmax = 12)\n",
    "plt.ylim(ymin = -7, ymax = 6)\n",
    "plt.plot(dataset_hole['X_test'], dataset_hole['y_test'], color='green', linewidth=2, label=\"Ground Truth\")\n",
    "plt.plot(dataset_hole['X_train'], dataset_hole['y_train'], 'o', color='blue', label='Training points')\n",
    "plt.legend()\n",
    "plt.show()"
   ]
  },
  {
   "cell_type": "code",
   "execution_count": null,
   "metadata": {},
   "outputs": [],
   "source": [
    "# TO DO: Define f_pred, predict on test points and plot results\n",
    "\n",
    "# You should use the following parameters for plot_results\n",
    "# xmin=-12, xmax=12, ymin=-7, ymax=6, stdmin=0.0, stdmax=0.5"
   ]
  },
  {
   "cell_type": "markdown",
   "metadata": {},
   "source": [
    "## Part II: Non Linear models\n",
    "\n",
    "We now introduce a more complex toy dataset, which is an increasing sinusoidal curve. The goal of this part is to get insight on the importance of the chosen basis function on the predictive variance behavior."
   ]
  },
  {
   "cell_type": "code",
   "execution_count": null,
   "metadata": {},
   "outputs": [],
   "source": [
    "# Generate sinusoidal toy dataset\n",
    "def f_sinus(x, noise_amount,sigma=0.2):\n",
    "    y = np.sin(2*np.pi*x) + x\n",
    "    noise = np.random.normal(0, sigma, len(x))\n",
    "    return y + noise_amount * noise\n",
    "\n",
    "# Create training and test points\n",
    "sigma=0.2\n",
    "nbpts=50\n",
    "dataset_sinus = {}\n",
    "dataset_sinus['X_train'] = np.random.uniform(0, 1, nbpts)\n",
    "dataset_sinus['y_train'] = f_sinus(dataset_sinus['X_train'], noise_amount=1,sigma=sigma)\n",
    "dataset_sinus['X_test'] = np.linspace(-1,2, 10*nbpts)\n",
    "dataset_sinus['y_test'] = f_sinus(dataset_sinus['X_test'], noise_amount=0,sigma=sigma)\n",
    "\n",
    "dataset_sinus['ALPHA'] = 0.05\n",
    "dataset_sinus['BETA'] = 1/(2.0*sigma**2)\n",
    "\n",
    "# Plot dataset\n",
    "plt.figure(figsize=(7,5))\n",
    "plt.xlim(xmin =-1, xmax = 2)\n",
    "plt.ylim(ymin = -2, ymax = 3)\n",
    "plt.plot(dataset_sinus['X_test'], dataset_sinus['y_test'], color='green', linewidth=2,\n",
    "         label=\"Ground Truth\")\n",
    "plt.plot(dataset_sinus['X_train'], dataset_sinus['y_train'], 'o', color='blue', label='Training points')\n",
    "plt.legend()\n",
    "plt.show()\n"
   ]
  },
  {
   "cell_type": "markdown",
   "metadata": {},
   "source": [
    "### II.1 Polynomial basis functions\n",
    "\n",
    "We will first use polynomial basis functions:\n",
    "$$\\phi:x \\rightarrow (\\phi_0,\\phi_1,...,\\phi_{D-1})$$\n",
    "where $\\phi_j = x^j$ for $j \\geq 0$ and $D \\geq 0$\n",
    "\n",
    "\n",
    "Design matrix $\\Phi$ defined on training set is:\n",
    "$$ \\Phi=\n",
    "  \\begin{bmatrix}\n",
    "    1 & x_1 & x_1^2 &... &x_1^{D-1} \\\\\n",
    "    ... & ... & ... & ...\\\\\n",
    "    1 & x_n & x_n^2 &... &x_n^{D-1}\n",
    "  \\end{bmatrix}\n",
    "$$\n",
    "\n",
    "**Question 2.1: Code polynomial basis function**"
   ]
  },
  {
   "cell_type": "code",
   "execution_count": null,
   "metadata": {},
   "outputs": [],
   "source": [
    "# Define basis function\n",
    "def phi_polynomial(x):\n",
    "    \"\"\" Polynomial Basis Functions\n",
    "    \n",
    "    Args:\n",
    "      x: (float) 1D input\n",
    "      \n",
    "    Returns:\n",
    "      (array) polynomial features of x\n",
    "    \"\"\"\n",
    "    D = 10\n",
    "    # TO DO\n",
    "    return 0"
   ]
  },
  {
   "cell_type": "markdown",
   "metadata": {},
   "source": [
    "**Question 2.2 : Code and visualize results on sinusoidal dataset using polynomial basis functions. What can you say about the predictive variance?**"
   ]
  },
  {
   "cell_type": "code",
   "execution_count": null,
   "metadata": {},
   "outputs": [],
   "source": [
    "# TO DO: Define f_pred, predict on test points and plot results\n",
    "\n",
    "# You should use the following parameters for plot_results\n",
    "# xmin=-1, xmax=2, ymin=-3, ymax=5, stdmin=0, stdmax=10"
   ]
  },
  {
   "cell_type": "markdown",
   "metadata": {},
   "source": [
    "### II.2 Gaussian basis functions\n",
    "\n",
    "Now, let's consider gaussian basis functions:\n",
    "$$\\phi:x \\rightarrow (\\phi_0,\\phi_1,...,\\phi_M)$$\n",
    "where $\\phi_j = \\exp \\Big ( -\\frac{(x-\\mu_j)^2}{2s^2} \\Big )$ for $j \\geq 0$\n",
    "\n",
    "\n",
    "Design matrix $\\Phi$ defined on training set is:\n",
    "$$ \\Phi=\n",
    "  \\begin{bmatrix}\n",
    "    \\phi_0(x_1) & \\phi_1(x_1) &... &\\phi_M(x_1) \\\\\n",
    "    ... & ... & ... & ...\\\\\n",
    "    \\phi_0(x_n) & \\phi_1(x_n) &... &\\phi_M(x_n)\n",
    "  \\end{bmatrix}\n",
    "$$\n",
    "\n",
    "**Question 2.3: Code gaussian basis function**"
   ]
  },
  {
   "cell_type": "code",
   "execution_count": null,
   "metadata": {},
   "outputs": [],
   "source": [
    "#TO DO: Define Gaussian basis function\n",
    "MU_MIN = 0\n",
    "MU_MAX = 1\n",
    "M = 9\n",
    "\n",
    "def phi_gaussian(x) :\n",
    "    \"\"\" Gaussian Basis Functions\n",
    "    \n",
    "    Args:\n",
    "      x: (float) 1D input\n",
    "      \n",
    "    Returns:\n",
    "      (array) gaussian features of x\n",
    "    \"\"\"\n",
    "    s = (MU_MAX-MU_MIN)/M\n",
    "    return np.exp(-(x - np.arange(MU_MIN, MU_MAX, s)) ** 2 / (2 * s * s))"
   ]
  },
  {
   "cell_type": "markdown",
   "metadata": {},
   "source": [
    "**Question 2.4 : Code and visualize results on sinusoidal dataset using Gaussian basis functions. What can you say this time about the predictive variance?**"
   ]
  },
  {
   "cell_type": "code",
   "execution_count": null,
   "metadata": {},
   "outputs": [],
   "source": [
    "# TO DO: Define f_pred, predict on test points and plot results\n",
    "\n",
    "# You should use the following parameters for plot_results\n",
    "# xmin=-1, xmax=2, ymin=-2, ymax=3, stdmin=0.05, stdmax=0.2"
   ]
  },
  {
   "cell_type": "markdown",
   "metadata": {},
   "source": [
    "**Question 2.5: Explain why in regions far from training distribution, the predictive variance converges to this value when using localized basis functions such as Gaussians.**"
   ]
  }
 ],
 "metadata": {
  "kernelspec": {
   "display_name": "Python 3 (ipykernel)",
   "language": "python",
   "name": "python3"
  },
  "language_info": {
   "codemirror_mode": {
    "name": "ipython",
    "version": 3
   },
   "file_extension": ".py",
   "mimetype": "text/x-python",
   "name": "python",
   "nbconvert_exporter": "python",
   "pygments_lexer": "ipython3",
   "version": "3.10.12"
  }
 },
 "nbformat": 4,
 "nbformat_minor": 4
}
